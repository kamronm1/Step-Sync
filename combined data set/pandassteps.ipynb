{
 "cells": [
  {
   "cell_type": "code",
   "execution_count": 4,
   "id": "af62c94e-3c0e-4fdc-9c68-33f9f0bd3d0d",
   "metadata": {},
   "outputs": [
    {
     "name": "stdout",
     "output_type": "stream",
     "text": [
      "       Date/Time  Vero Steps  Kamron Steps  Kelvin Steps  Khloe Steps\n",
      "0     2020-05-18      2988.0         823.0        7145.0          0.0\n",
      "1     2020-05-19       508.0         885.0        1938.0          0.0\n",
      "2     2020-05-20       492.0        1194.0        3258.0          0.0\n",
      "3     2020-05-21       210.0        1037.0        4626.0          0.0\n",
      "4     2020-05-22       484.0         527.0        3668.0          0.0\n",
      "...          ...         ...           ...           ...          ...\n",
      "1830  2025-05-22      2076.0        6646.0       11805.0       4102.0\n",
      "1831  2025-05-23      3417.0        4341.0        9691.0       3847.0\n",
      "1832  2025-05-24     12516.0        7444.0        3923.0       8234.0\n",
      "1833  2025-05-25      7079.0        5253.0        6840.0       8731.0\n",
      "1834  2025-05-26       139.0           0.0         450.0        396.0\n",
      "\n",
      "[1835 rows x 5 columns]\n"
     ]
    }
   ],
   "source": [
    "import pandas as pd\n",
    "\n",
    "folder_path = r\"C:\\Users\\sayyy\\OneDrive\\Desktop\\step project\"\n",
    "\n",
    "# Load each user file\n",
    "df_vero = pd.read_csv(f\"{folder_path}\\\\vero step count.csv\")\n",
    "df_kamron = pd.read_csv(f\"{folder_path}\\\\kamron step count.csv\")\n",
    "df_kelvin = pd.read_csv(f\"{folder_path}\\\\kelvin step count.csv\")\n",
    "df_khloe = pd.read_csv(f\"{folder_path}\\\\khloe step count.csv\")\n",
    "\n",
    "# Rename steps column to user names for clarity\n",
    "df_vero = df_vero[['Date/Time', 'Step Count (count)']].rename(columns={'Step Count (count)': 'Vero Steps'})\n",
    "df_kamron = df_kamron[['Date/Time', 'Step Count (count)']].rename(columns={'Step Count (count)': 'Kamron Steps'})\n",
    "df_kelvin = df_kelvin[['Date/Time', 'Step Count (count)']].rename(columns={'Step Count (count)': 'Kelvin Steps'})\n",
    "df_khloe = df_khloe[['Date/Time', 'Step Count (count)']].rename(columns={'Step Count (count)': 'Khloe Steps'})\n",
    "\n",
    "# Merge all dataframes on 'Date/Time'\n",
    "merged = df_vero.merge(df_kamron, on='Date/Time', how='outer') \\\n",
    "                .merge(df_kelvin, on='Date/Time', how='outer') \\\n",
    "                .merge(df_khloe, on='Date/Time', how='outer')\n",
    "\n",
    "\n",
    "\n",
    "\n",
    "# Convert 'Date/Time' to datetime if it isn't already\n",
    "merged['Date/Time'] = pd.to_datetime(merged['Date/Time'])\n",
    "\n",
    "# Keep only the date part (drops the time)\n",
    "merged['Date/Time'] = merged['Date/Time'].dt.date\n",
    "\n",
    "merged = merged.fillna(0)\n",
    "\n",
    "print(merged)\n"
   ]
  },
  {
   "cell_type": "code",
   "execution_count": 5,
   "id": "77e06f7b-6888-4e70-ac7a-4ee4ee92a47f",
   "metadata": {},
   "outputs": [],
   "source": [
    "merged.to_excel(f\"{folder_path}\\\\merged_steps.xlsx\", index=False)"
   ]
  },
  {
   "cell_type": "code",
   "execution_count": null,
   "id": "a2fe470e-7418-4759-8476-5adb9a53653c",
   "metadata": {},
   "outputs": [],
   "source": []
  }
 ],
 "metadata": {
  "kernelspec": {
   "display_name": "Python 3 (ipykernel)",
   "language": "python",
   "name": "python3"
  },
  "language_info": {
   "codemirror_mode": {
    "name": "ipython",
    "version": 3
   },
   "file_extension": ".py",
   "mimetype": "text/x-python",
   "name": "python",
   "nbconvert_exporter": "python",
   "pygments_lexer": "ipython3",
   "version": "3.12.7"
  }
 },
 "nbformat": 4,
 "nbformat_minor": 5
}
